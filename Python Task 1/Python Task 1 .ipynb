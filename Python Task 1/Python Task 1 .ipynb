{
 "cells": [
  {
   "cell_type": "code",
   "execution_count": null,
   "id": "6877ca34",
   "metadata": {
    "scrolled": false
   },
   "outputs": [],
   "source": [
    "import random \n",
    "flag = True\n",
    "while flag:\n",
    "    num = input(\"Type a number for a an upper bound: \")\n",
    "    \n",
    "    if num.isdigit():\n",
    "        print(\"Let's play\")\n",
    "        num = int(num)\n",
    "        flag = False\n",
    "    else:\n",
    "        print(\"Invalid input! Trye Again!\")\n",
    "\n",
    "secret = int(random.randint(1, num))\n",
    "guess = None\n",
    "count = 1\n",
    "\n",
    "while guess != secret:\n",
    "    guess = input('Please type number between 1 and ' + str(num) + \": \")\n",
    "    if guess.isdigit():\n",
    "        guess = int(guess)\n",
    "    \n",
    "    if guess == secret:\n",
    "        print(\"You got it!\")\n",
    "        break\n",
    "        \n",
    "    elif  secret > guess:\n",
    "        print(\"You guessed too small!\")\n",
    "    elif secret < guess:\n",
    "        print(\"You guessed too high!\")\n",
    "        count += 1\n",
    "    else:\n",
    "        print(\"Trye Again!\")\n"
   ]
  },
  {
   "cell_type": "markdown",
   "id": "ae88e17a",
   "metadata": {},
   "source": [
    "#### "
   ]
  },
  {
   "cell_type": "markdown",
   "id": "a1a09a26",
   "metadata": {},
   "source": []
  }
 ],
 "metadata": {
  "kernelspec": {
   "display_name": "Python 3",
   "language": "python",
   "name": "python3"
  },
  "language_info": {
   "codemirror_mode": {
    "name": "ipython",
    "version": 3
   },
   "file_extension": ".py",
   "mimetype": "text/x-python",
   "name": "python",
   "nbconvert_exporter": "python",
   "pygments_lexer": "ipython3",
   "version": "3.8.8"
  }
 },
 "nbformat": 4,
 "nbformat_minor": 5
}
